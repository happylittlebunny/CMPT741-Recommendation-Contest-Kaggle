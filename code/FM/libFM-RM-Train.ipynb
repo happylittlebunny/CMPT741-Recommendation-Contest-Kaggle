{
 "cells": [
  {
   "cell_type": "code",
   "execution_count": 1,
   "metadata": {},
   "outputs": [],
   "source": [
    "import pandas as pd\n",
    "import numpy as np\n",
    "from sklearn.model_selection import train_test_split"
   ]
  },
  {
   "cell_type": "code",
   "execution_count": 2,
   "metadata": {
    "collapsed": true
   },
   "outputs": [],
   "source": [
    "df = pd.read_csv('/Users/yuyizhou/Documents/2017Fall/CMPT741/project/data/train_rating.txt', parse_dates=True)\n",
    "df = df[['user_id','business_id', 'date', 'rating']]"
   ]
  },
  {
   "cell_type": "code",
   "execution_count": 3,
   "metadata": {
    "collapsed": true
   },
   "outputs": [],
   "source": [
    "num_of_u = len(df['user_id'].unique())\n",
    "num_of_b = len(df['business_id'].unique())"
   ]
  },
  {
   "cell_type": "code",
   "execution_count": 4,
   "metadata": {
    "collapsed": true
   },
   "outputs": [],
   "source": [
    "u_start = 0\n",
    "b_start = u_start + num_of_u\n",
    "dow_start = b_start + num_of_b\n",
    "moy_start = dow_start + 7\n",
    "dom_start = moy_start + 12\n",
    "woy_start = dom_start + 31\n",
    "doy_start = woy_start + 52"
   ]
  },
  {
   "cell_type": "code",
   "execution_count": 5,
   "metadata": {
    "collapsed": true
   },
   "outputs": [],
   "source": [
    "def convert_category_type(id, start):\n",
    "    return str(start+id) + ':1'"
   ]
  },
  {
   "cell_type": "code",
   "execution_count": 6,
   "metadata": {
    "collapsed": true
   },
   "outputs": [],
   "source": [
    "def add_time(df_t):\n",
    "    df = df_t.copy()\n",
    "    df['date'] = pd.to_datetime(df['date'])\n",
    "    df['dow'] = df['date'].dt.dayofweek\n",
    "    df['doy'] = df['date'].dt.dayofyear\n",
    "    df['woy'] = df['date'].dt.weekofyear\n",
    "    df['moy'] = df['date'].dt.month\n",
    "    df['dom'] = df['date'].dt.day    \n",
    "    return df"
   ]
  },
  {
   "cell_type": "code",
   "execution_count": 7,
   "metadata": {
    "collapsed": true
   },
   "outputs": [],
   "source": [
    "def add_libFM_features(df_t):\n",
    "    df = df_t.copy()\n",
    "    df['uid_c'] = df['user_id'].apply(lambda x: convert_category_type(x, u_start))\n",
    "    df['bid_c'] = df['business_id'].apply(lambda x: convert_category_type(x, b_start))\n",
    "    df['dow_c'] = df['dow'].apply(lambda x: convert_category_type(x, dow_start))\n",
    "    df['moy_c'] = df['moy'].apply(lambda x: convert_category_type(x, moy_start))\n",
    "    df['dom_c'] = df['dom'].apply(lambda x: convert_category_type(x, dom_start))\n",
    "    df['woy_c'] = df['woy'].apply(lambda x: convert_category_type(x, woy_start))\n",
    "    df['doy_c'] = df['doy'].apply(lambda x: convert_category_type(x, doy_start))\n",
    "    return df"
   ]
  },
  {
   "cell_type": "code",
   "execution_count": 8,
   "metadata": {
    "collapsed": true
   },
   "outputs": [],
   "source": [
    "columns = ['rating','uid_c', 'bid_c', 'dow_c', 'moy_c', 'dom_c', 'woy_c', 'doy_c']"
   ]
  },
  {
   "cell_type": "code",
   "execution_count": 9,
   "metadata": {},
   "outputs": [],
   "source": [
    "train, test = train_test_split(df, test_size=0.2, random_state=888)"
   ]
  },
  {
   "cell_type": "code",
   "execution_count": 10,
   "metadata": {
    "scrolled": true
   },
   "outputs": [],
   "source": [
    "train = add_time(train)\n",
    "train = add_libFM_features(train)\n",
    "train = train[columns]"
   ]
  },
  {
   "cell_type": "code",
   "execution_count": 11,
   "metadata": {},
   "outputs": [
    {
     "data": {
      "text/html": [
       "<div>\n",
       "<style>\n",
       "    .dataframe thead tr:only-child th {\n",
       "        text-align: right;\n",
       "    }\n",
       "\n",
       "    .dataframe thead th {\n",
       "        text-align: left;\n",
       "    }\n",
       "\n",
       "    .dataframe tbody tr th {\n",
       "        vertical-align: top;\n",
       "    }\n",
       "</style>\n",
       "<table border=\"1\" class=\"dataframe\">\n",
       "  <thead>\n",
       "    <tr style=\"text-align: right;\">\n",
       "      <th></th>\n",
       "      <th>rating</th>\n",
       "      <th>uid_c</th>\n",
       "      <th>bid_c</th>\n",
       "      <th>dow_c</th>\n",
       "      <th>moy_c</th>\n",
       "      <th>dom_c</th>\n",
       "      <th>woy_c</th>\n",
       "      <th>doy_c</th>\n",
       "    </tr>\n",
       "  </thead>\n",
       "  <tbody>\n",
       "    <tr>\n",
       "      <th>1292090</th>\n",
       "      <td>5</td>\n",
       "      <td>1478:1</td>\n",
       "      <td>798187:1</td>\n",
       "      <td>838513:1</td>\n",
       "      <td>838529:1</td>\n",
       "      <td>838554:1</td>\n",
       "      <td>838605:1</td>\n",
       "      <td>838911:1</td>\n",
       "    </tr>\n",
       "    <tr>\n",
       "      <th>1538597</th>\n",
       "      <td>5</td>\n",
       "      <td>580468:1</td>\n",
       "      <td>817177:1</td>\n",
       "      <td>838518:1</td>\n",
       "      <td>838523:1</td>\n",
       "      <td>838537:1</td>\n",
       "      <td>838576:1</td>\n",
       "      <td>838710:1</td>\n",
       "    </tr>\n",
       "    <tr>\n",
       "      <th>631159</th>\n",
       "      <td>4</td>\n",
       "      <td>9829:1</td>\n",
       "      <td>762181:1</td>\n",
       "      <td>838514:1</td>\n",
       "      <td>838525:1</td>\n",
       "      <td>838533:1</td>\n",
       "      <td>838584:1</td>\n",
       "      <td>838767:1</td>\n",
       "    </tr>\n",
       "    <tr>\n",
       "      <th>1352505</th>\n",
       "      <td>1</td>\n",
       "      <td>298441:1</td>\n",
       "      <td>808443:1</td>\n",
       "      <td>838518:1</td>\n",
       "      <td>838522:1</td>\n",
       "      <td>838537:1</td>\n",
       "      <td>838571:1</td>\n",
       "      <td>838680:1</td>\n",
       "    </tr>\n",
       "    <tr>\n",
       "      <th>752459</th>\n",
       "      <td>1</td>\n",
       "      <td>75197:1</td>\n",
       "      <td>771895:1</td>\n",
       "      <td>838516:1</td>\n",
       "      <td>838528:1</td>\n",
       "      <td>838547:1</td>\n",
       "      <td>838599:1</td>\n",
       "      <td>838874:1</td>\n",
       "    </tr>\n",
       "  </tbody>\n",
       "</table>\n",
       "</div>"
      ],
      "text/plain": [
       "         rating     uid_c     bid_c     dow_c     moy_c     dom_c     woy_c  \\\n",
       "1292090       5    1478:1  798187:1  838513:1  838529:1  838554:1  838605:1   \n",
       "1538597       5  580468:1  817177:1  838518:1  838523:1  838537:1  838576:1   \n",
       "631159        4    9829:1  762181:1  838514:1  838525:1  838533:1  838584:1   \n",
       "1352505       1  298441:1  808443:1  838518:1  838522:1  838537:1  838571:1   \n",
       "752459        1   75197:1  771895:1  838516:1  838528:1  838547:1  838599:1   \n",
       "\n",
       "            doy_c  \n",
       "1292090  838911:1  \n",
       "1538597  838710:1  \n",
       "631159   838767:1  \n",
       "1352505  838680:1  \n",
       "752459   838874:1  "
      ]
     },
     "execution_count": 11,
     "metadata": {},
     "output_type": "execute_result"
    }
   ],
   "source": [
    "train.head()"
   ]
  },
  {
   "cell_type": "code",
   "execution_count": 12,
   "metadata": {
    "collapsed": true
   },
   "outputs": [],
   "source": [
    "train.to_csv('/Users/yuyizhou/Documents/2017Fall/CMPT741/project/libFM/data/train.libfm', sep=' ', header=False, index=False)"
   ]
  },
  {
   "cell_type": "code",
   "execution_count": 15,
   "metadata": {
    "collapsed": true
   },
   "outputs": [],
   "source": [
    "test = add_time(test)\n",
    "test = add_libFM_features(test)\n",
    "test = test[columns]"
   ]
  },
  {
   "cell_type": "code",
   "execution_count": 16,
   "metadata": {},
   "outputs": [
    {
     "data": {
      "text/html": [
       "<div>\n",
       "<style>\n",
       "    .dataframe thead tr:only-child th {\n",
       "        text-align: right;\n",
       "    }\n",
       "\n",
       "    .dataframe thead th {\n",
       "        text-align: left;\n",
       "    }\n",
       "\n",
       "    .dataframe tbody tr th {\n",
       "        vertical-align: top;\n",
       "    }\n",
       "</style>\n",
       "<table border=\"1\" class=\"dataframe\">\n",
       "  <thead>\n",
       "    <tr style=\"text-align: right;\">\n",
       "      <th></th>\n",
       "      <th>rating</th>\n",
       "      <th>uid_c</th>\n",
       "      <th>bid_c</th>\n",
       "      <th>dow_c</th>\n",
       "      <th>moy_c</th>\n",
       "      <th>dom_c</th>\n",
       "      <th>woy_c</th>\n",
       "      <th>doy_c</th>\n",
       "    </tr>\n",
       "  </thead>\n",
       "  <tbody>\n",
       "    <tr>\n",
       "      <th>1698523</th>\n",
       "      <td>4</td>\n",
       "      <td>135846:1</td>\n",
       "      <td>820154:1</td>\n",
       "      <td>838517:1</td>\n",
       "      <td>838530:1</td>\n",
       "      <td>838536:1</td>\n",
       "      <td>838606:1</td>\n",
       "      <td>838923:1</td>\n",
       "    </tr>\n",
       "    <tr>\n",
       "      <th>1663480</th>\n",
       "      <td>4</td>\n",
       "      <td>11291:1</td>\n",
       "      <td>822627:1</td>\n",
       "      <td>838518:1</td>\n",
       "      <td>838524:1</td>\n",
       "      <td>838539:1</td>\n",
       "      <td>838580:1</td>\n",
       "      <td>838743:1</td>\n",
       "    </tr>\n",
       "    <tr>\n",
       "      <th>513878</th>\n",
       "      <td>5</td>\n",
       "      <td>21374:1</td>\n",
       "      <td>749304:1</td>\n",
       "      <td>838513:1</td>\n",
       "      <td>838525:1</td>\n",
       "      <td>838543:1</td>\n",
       "      <td>838586:1</td>\n",
       "      <td>838778:1</td>\n",
       "    </tr>\n",
       "    <tr>\n",
       "      <th>1780354</th>\n",
       "      <td>4</td>\n",
       "      <td>60010:1</td>\n",
       "      <td>827435:1</td>\n",
       "      <td>838517:1</td>\n",
       "      <td>838525:1</td>\n",
       "      <td>838549:1</td>\n",
       "      <td>838586:1</td>\n",
       "      <td>838783:1</td>\n",
       "    </tr>\n",
       "    <tr>\n",
       "      <th>427359</th>\n",
       "      <td>5</td>\n",
       "      <td>239995:1</td>\n",
       "      <td>739418:1</td>\n",
       "      <td>838515:1</td>\n",
       "      <td>838529:1</td>\n",
       "      <td>838540:1</td>\n",
       "      <td>838603:1</td>\n",
       "      <td>838896:1</td>\n",
       "    </tr>\n",
       "  </tbody>\n",
       "</table>\n",
       "</div>"
      ],
      "text/plain": [
       "         rating     uid_c     bid_c     dow_c     moy_c     dom_c     woy_c  \\\n",
       "1698523       4  135846:1  820154:1  838517:1  838530:1  838536:1  838606:1   \n",
       "1663480       4   11291:1  822627:1  838518:1  838524:1  838539:1  838580:1   \n",
       "513878        5   21374:1  749304:1  838513:1  838525:1  838543:1  838586:1   \n",
       "1780354       4   60010:1  827435:1  838517:1  838525:1  838549:1  838586:1   \n",
       "427359        5  239995:1  739418:1  838515:1  838529:1  838540:1  838603:1   \n",
       "\n",
       "            doy_c  \n",
       "1698523  838923:1  \n",
       "1663480  838743:1  \n",
       "513878   838778:1  \n",
       "1780354  838783:1  \n",
       "427359   838896:1  "
      ]
     },
     "execution_count": 16,
     "metadata": {},
     "output_type": "execute_result"
    }
   ],
   "source": [
    "test.head()"
   ]
  },
  {
   "cell_type": "code",
   "execution_count": 14,
   "metadata": {
    "collapsed": true
   },
   "outputs": [],
   "source": [
    "test.to_csv('/Users/yuyizhou/Documents/2017Fall/CMPT741/project/libFM/data/test.libfm', sep=' ', header=False, index=False)"
   ]
  },
  {
   "cell_type": "code",
   "execution_count": 17,
   "metadata": {
    "collapsed": true
   },
   "outputs": [],
   "source": [
    "# Create Group.txt\n",
    "g_u = np.full((num_of_u,), 0)\n",
    "g_b = np.full((num_of_b,), 1)\n",
    "g_dow = np.full((7,), 2)\n",
    "g_moy = np.full((12,), 3)\n",
    "g_dom = np.full((31,), 4)\n",
    "g_woy = np.full((52,), 5)\n",
    "g_doy = np.full((365,), 6)\n",
    "g_all = np.concatenate([g_u,g_b,g_dow,g_moy,g_dom,g_woy,g_doy])\n",
    "df_group = pd.DataFrame(g_all)\n",
    "df_group.to_csv('group.txt', index=False)"
   ]
  },
  {
   "cell_type": "code",
   "execution_count": null,
   "metadata": {
    "collapsed": true
   },
   "outputs": [],
   "source": []
  }
 ],
 "metadata": {
  "kernelspec": {
   "display_name": "Python 3",
   "language": "python",
   "name": "python3"
  },
  "language_info": {
   "codemirror_mode": {
    "name": "ipython",
    "version": 3
   },
   "file_extension": ".py",
   "mimetype": "text/x-python",
   "name": "python",
   "nbconvert_exporter": "python",
   "pygments_lexer": "ipython3",
   "version": "3.6.2"
  }
 },
 "nbformat": 4,
 "nbformat_minor": 2
}
