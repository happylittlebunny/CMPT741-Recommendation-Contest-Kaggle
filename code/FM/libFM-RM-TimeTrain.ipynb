{
 "cells": [
  {
   "cell_type": "code",
   "execution_count": 1,
   "metadata": {
    "collapsed": true
   },
   "outputs": [],
   "source": [
    "import pandas as pd\n",
    "import numpy as np\n",
    "from sklearn.model_selection import train_test_split"
   ]
  },
  {
   "cell_type": "code",
   "execution_count": 2,
   "metadata": {
    "collapsed": true
   },
   "outputs": [],
   "source": [
    "df = pd.read_csv('/Users/yuyizhou/Documents/2017Fall/CMPT741/project/data/train_rating.txt', parse_dates=True)\n",
    "df = df[['user_id','business_id', 'date', 'rating']]"
   ]
  },
  {
   "cell_type": "code",
   "execution_count": 3,
   "metadata": {
    "collapsed": true
   },
   "outputs": [],
   "source": [
    "num_of_u = len(df['user_id'].unique())\n",
    "num_of_b = len(df['business_id'].unique())"
   ]
  },
  {
   "cell_type": "code",
   "execution_count": 4,
   "metadata": {
    "collapsed": true
   },
   "outputs": [],
   "source": [
    "u_start = 0\n",
    "b_start = u_start + num_of_u\n",
    "dow_start = b_start + num_of_b\n",
    "moy_start = dow_start + 7\n",
    "dom_start = moy_start + 12\n",
    "woy_start = dom_start + 31\n",
    "doy_start = woy_start + 52"
   ]
  },
  {
   "cell_type": "code",
   "execution_count": 5,
   "metadata": {
    "collapsed": true
   },
   "outputs": [],
   "source": [
    "def convert_category_type(id, start):\n",
    "    return str(start+id) + ':1'"
   ]
  },
  {
   "cell_type": "code",
   "execution_count": 6,
   "metadata": {
    "collapsed": true
   },
   "outputs": [],
   "source": [
    "def add_time(df_t):\n",
    "    df = df_t.copy()\n",
    "    df['date'] = pd.to_datetime(df['date'])\n",
    "    df['dow'] = df['date'].dt.dayofweek\n",
    "    df['doy'] = df['date'].dt.dayofyear\n",
    "    df['woy'] = df['date'].dt.weekofyear\n",
    "    df['moy'] = df['date'].dt.month\n",
    "    df['dom'] = df['date'].dt.day    \n",
    "    return df"
   ]
  },
  {
   "cell_type": "code",
   "execution_count": 7,
   "metadata": {
    "collapsed": true
   },
   "outputs": [],
   "source": [
    "def add_libFM_features(df_t):\n",
    "    df = df_t.copy()\n",
    "    df['uid_c'] = df['user_id'].apply(lambda x: convert_category_type(x, u_start))\n",
    "    df['bid_c'] = df['business_id'].apply(lambda x: convert_category_type(x, b_start))\n",
    "    df['dow_c'] = df['dow'].apply(lambda x: convert_category_type(x, dow_start))\n",
    "    df['moy_c'] = df['moy'].apply(lambda x: convert_category_type(x, moy_start))\n",
    "    df['dom_c'] = df['dom'].apply(lambda x: convert_category_type(x, dom_start))\n",
    "    df['woy_c'] = df['woy'].apply(lambda x: convert_category_type(x, woy_start))\n",
    "    df['doy_c'] = df['doy'].apply(lambda x: convert_category_type(x, doy_start))\n",
    "    return df"
   ]
  },
  {
   "cell_type": "code",
   "execution_count": 8,
   "metadata": {
    "collapsed": true
   },
   "outputs": [],
   "source": [
    "columns = ['rating','uid_c', 'bid_c', 'dow_c', 'moy_c', 'dom_c', 'woy_c', 'doy_c']"
   ]
  },
  {
   "cell_type": "code",
   "execution_count": 13,
   "metadata": {},
   "outputs": [],
   "source": [
    "#train, test = train_test_split(df, test_size=0.2, random_state=888)\n",
    "# instead of random split, here choose validation set contains only month from Jan to July\n",
    "df['date'] = pd.to_datetime(df['date'])\n",
    "df['MOY'] = df['date'].dt.month\n",
    "test = (df.loc[(df['MOY'] >= 1) & (df['MOY'] <= 7)]) \\\n",
    "     .sample(frac = 0.3493389, random_state = np.random.seed(5)) \\\n",
    "     .drop(['MOY'], 1)\n",
    "train = df.loc[~df.index.isin(test.index)] "
   ]
  },
  {
   "cell_type": "code",
   "execution_count": 14,
   "metadata": {},
   "outputs": [
    {
     "data": {
      "text/plain": [
       "1630504"
      ]
     },
     "execution_count": 14,
     "metadata": {},
     "output_type": "execute_result"
    }
   ],
   "source": [
    "len(train)"
   ]
  },
  {
   "cell_type": "code",
   "execution_count": 15,
   "metadata": {},
   "outputs": [
    {
     "data": {
      "text/plain": [
       "407626"
      ]
     },
     "execution_count": 15,
     "metadata": {},
     "output_type": "execute_result"
    }
   ],
   "source": [
    "len(test)"
   ]
  },
  {
   "cell_type": "code",
   "execution_count": 16,
   "metadata": {
    "collapsed": true,
    "scrolled": true
   },
   "outputs": [],
   "source": [
    "train = add_time(train)\n",
    "train = add_libFM_features(train)\n",
    "train = train[columns]"
   ]
  },
  {
   "cell_type": "code",
   "execution_count": 17,
   "metadata": {},
   "outputs": [
    {
     "data": {
      "text/html": [
       "<div>\n",
       "<style>\n",
       "    .dataframe thead tr:only-child th {\n",
       "        text-align: right;\n",
       "    }\n",
       "\n",
       "    .dataframe thead th {\n",
       "        text-align: left;\n",
       "    }\n",
       "\n",
       "    .dataframe tbody tr th {\n",
       "        vertical-align: top;\n",
       "    }\n",
       "</style>\n",
       "<table border=\"1\" class=\"dataframe\">\n",
       "  <thead>\n",
       "    <tr style=\"text-align: right;\">\n",
       "      <th></th>\n",
       "      <th>rating</th>\n",
       "      <th>uid_c</th>\n",
       "      <th>bid_c</th>\n",
       "      <th>dow_c</th>\n",
       "      <th>moy_c</th>\n",
       "      <th>dom_c</th>\n",
       "      <th>woy_c</th>\n",
       "      <th>doy_c</th>\n",
       "    </tr>\n",
       "  </thead>\n",
       "  <tbody>\n",
       "    <tr>\n",
       "      <th>0</th>\n",
       "      <td>5</td>\n",
       "      <td>0:1</td>\n",
       "      <td>693209:1</td>\n",
       "      <td>838514:1</td>\n",
       "      <td>838530:1</td>\n",
       "      <td>838551:1</td>\n",
       "      <td>838609:1</td>\n",
       "      <td>838938:1</td>\n",
       "    </tr>\n",
       "    <tr>\n",
       "      <th>3</th>\n",
       "      <td>3</td>\n",
       "      <td>3:1</td>\n",
       "      <td>693210:1</td>\n",
       "      <td>838517:1</td>\n",
       "      <td>838526:1</td>\n",
       "      <td>838542:1</td>\n",
       "      <td>838590:1</td>\n",
       "      <td>838806:1</td>\n",
       "    </tr>\n",
       "    <tr>\n",
       "      <th>5</th>\n",
       "      <td>2</td>\n",
       "      <td>5:1</td>\n",
       "      <td>693210:1</td>\n",
       "      <td>838514:1</td>\n",
       "      <td>838525:1</td>\n",
       "      <td>838546:1</td>\n",
       "      <td>838586:1</td>\n",
       "      <td>838780:1</td>\n",
       "    </tr>\n",
       "    <tr>\n",
       "      <th>6</th>\n",
       "      <td>4</td>\n",
       "      <td>6:1</td>\n",
       "      <td>693210:1</td>\n",
       "      <td>838514:1</td>\n",
       "      <td>838527:1</td>\n",
       "      <td>838541:1</td>\n",
       "      <td>838594:1</td>\n",
       "      <td>838836:1</td>\n",
       "    </tr>\n",
       "    <tr>\n",
       "      <th>7</th>\n",
       "      <td>2</td>\n",
       "      <td>7:1</td>\n",
       "      <td>693210:1</td>\n",
       "      <td>838512:1</td>\n",
       "      <td>838525:1</td>\n",
       "      <td>838548:1</td>\n",
       "      <td>838587:1</td>\n",
       "      <td>838782:1</td>\n",
       "    </tr>\n",
       "  </tbody>\n",
       "</table>\n",
       "</div>"
      ],
      "text/plain": [
       "   rating uid_c     bid_c     dow_c     moy_c     dom_c     woy_c     doy_c\n",
       "0       5   0:1  693209:1  838514:1  838530:1  838551:1  838609:1  838938:1\n",
       "3       3   3:1  693210:1  838517:1  838526:1  838542:1  838590:1  838806:1\n",
       "5       2   5:1  693210:1  838514:1  838525:1  838546:1  838586:1  838780:1\n",
       "6       4   6:1  693210:1  838514:1  838527:1  838541:1  838594:1  838836:1\n",
       "7       2   7:1  693210:1  838512:1  838525:1  838548:1  838587:1  838782:1"
      ]
     },
     "execution_count": 17,
     "metadata": {},
     "output_type": "execute_result"
    }
   ],
   "source": [
    "train.head()"
   ]
  },
  {
   "cell_type": "code",
   "execution_count": 18,
   "metadata": {
    "collapsed": true
   },
   "outputs": [],
   "source": [
    "train.to_csv('/Users/yuyizhou/Documents/2017Fall/CMPT741/project/libFM/data/train7.libfm', sep=' ', header=False, index=False)"
   ]
  },
  {
   "cell_type": "code",
   "execution_count": 19,
   "metadata": {
    "collapsed": true
   },
   "outputs": [],
   "source": [
    "test = add_time(test)\n",
    "test = add_libFM_features(test)\n",
    "test = test[columns]"
   ]
  },
  {
   "cell_type": "code",
   "execution_count": 20,
   "metadata": {},
   "outputs": [
    {
     "data": {
      "text/html": [
       "<div>\n",
       "<style>\n",
       "    .dataframe thead tr:only-child th {\n",
       "        text-align: right;\n",
       "    }\n",
       "\n",
       "    .dataframe thead th {\n",
       "        text-align: left;\n",
       "    }\n",
       "\n",
       "    .dataframe tbody tr th {\n",
       "        vertical-align: top;\n",
       "    }\n",
       "</style>\n",
       "<table border=\"1\" class=\"dataframe\">\n",
       "  <thead>\n",
       "    <tr style=\"text-align: right;\">\n",
       "      <th></th>\n",
       "      <th>rating</th>\n",
       "      <th>uid_c</th>\n",
       "      <th>bid_c</th>\n",
       "      <th>dow_c</th>\n",
       "      <th>moy_c</th>\n",
       "      <th>dom_c</th>\n",
       "      <th>woy_c</th>\n",
       "      <th>doy_c</th>\n",
       "    </tr>\n",
       "  </thead>\n",
       "  <tbody>\n",
       "    <tr>\n",
       "      <th>1518715</th>\n",
       "      <td>1</td>\n",
       "      <td>575629:1</td>\n",
       "      <td>816322:1</td>\n",
       "      <td>838516:1</td>\n",
       "      <td>838526:1</td>\n",
       "      <td>838553:1</td>\n",
       "      <td>838591:1</td>\n",
       "      <td>838818:1</td>\n",
       "    </tr>\n",
       "    <tr>\n",
       "      <th>173638</th>\n",
       "      <td>5</td>\n",
       "      <td>111672:1</td>\n",
       "      <td>709914:1</td>\n",
       "      <td>838515:1</td>\n",
       "      <td>838524:1</td>\n",
       "      <td>838546:1</td>\n",
       "      <td>838582:1</td>\n",
       "      <td>838749:1</td>\n",
       "    </tr>\n",
       "    <tr>\n",
       "      <th>1688893</th>\n",
       "      <td>4</td>\n",
       "      <td>414425:1</td>\n",
       "      <td>823259:1</td>\n",
       "      <td>838516:1</td>\n",
       "      <td>838526:1</td>\n",
       "      <td>838544:1</td>\n",
       "      <td>838590:1</td>\n",
       "      <td>838809:1</td>\n",
       "    </tr>\n",
       "    <tr>\n",
       "      <th>624778</th>\n",
       "      <td>3</td>\n",
       "      <td>315419:1</td>\n",
       "      <td>755864:1</td>\n",
       "      <td>838517:1</td>\n",
       "      <td>838525:1</td>\n",
       "      <td>838535:1</td>\n",
       "      <td>838584:1</td>\n",
       "      <td>838769:1</td>\n",
       "    </tr>\n",
       "    <tr>\n",
       "      <th>169709</th>\n",
       "      <td>1</td>\n",
       "      <td>118952:1</td>\n",
       "      <td>709557:1</td>\n",
       "      <td>838514:1</td>\n",
       "      <td>838524:1</td>\n",
       "      <td>838549:1</td>\n",
       "      <td>838582:1</td>\n",
       "      <td>838752:1</td>\n",
       "    </tr>\n",
       "  </tbody>\n",
       "</table>\n",
       "</div>"
      ],
      "text/plain": [
       "         rating     uid_c     bid_c     dow_c     moy_c     dom_c     woy_c  \\\n",
       "1518715       1  575629:1  816322:1  838516:1  838526:1  838553:1  838591:1   \n",
       "173638        5  111672:1  709914:1  838515:1  838524:1  838546:1  838582:1   \n",
       "1688893       4  414425:1  823259:1  838516:1  838526:1  838544:1  838590:1   \n",
       "624778        3  315419:1  755864:1  838517:1  838525:1  838535:1  838584:1   \n",
       "169709        1  118952:1  709557:1  838514:1  838524:1  838549:1  838582:1   \n",
       "\n",
       "            doy_c  \n",
       "1518715  838818:1  \n",
       "173638   838749:1  \n",
       "1688893  838809:1  \n",
       "624778   838769:1  \n",
       "169709   838752:1  "
      ]
     },
     "execution_count": 20,
     "metadata": {},
     "output_type": "execute_result"
    }
   ],
   "source": [
    "test.head()"
   ]
  },
  {
   "cell_type": "code",
   "execution_count": 21,
   "metadata": {
    "collapsed": true
   },
   "outputs": [],
   "source": [
    "test.to_csv('/Users/yuyizhou/Documents/2017Fall/CMPT741/project/libFM/data/test7.libfm', sep=' ', header=False, index=False)"
   ]
  },
  {
   "cell_type": "code",
   "execution_count": 17,
   "metadata": {
    "collapsed": true
   },
   "outputs": [],
   "source": []
  },
  {
   "cell_type": "code",
   "execution_count": null,
   "metadata": {
    "collapsed": true
   },
   "outputs": [],
   "source": []
  }
 ],
 "metadata": {
  "kernelspec": {
   "display_name": "Python 3",
   "language": "python",
   "name": "python3"
  },
  "language_info": {
   "codemirror_mode": {
    "name": "ipython",
    "version": 3
   },
   "file_extension": ".py",
   "mimetype": "text/x-python",
   "name": "python",
   "nbconvert_exporter": "python",
   "pygments_lexer": "ipython3",
   "version": "3.6.2"
  }
 },
 "nbformat": 4,
 "nbformat_minor": 2
}
