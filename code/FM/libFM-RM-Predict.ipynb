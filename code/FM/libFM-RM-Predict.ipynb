{
 "cells": [
  {
   "cell_type": "code",
   "execution_count": 1,
   "metadata": {
    "collapsed": true
   },
   "outputs": [],
   "source": [
    "import pandas as pd"
   ]
  },
  {
   "cell_type": "code",
   "execution_count": 2,
   "metadata": {
    "collapsed": true
   },
   "outputs": [],
   "source": [
    "df = pd.read_csv('/Users/yuyizhou/Documents/2017Fall/CMPT741/project/data/train_rating.txt', parse_dates=True)\n",
    "df = df[['user_id','business_id', 'date', 'rating']]"
   ]
  },
  {
   "cell_type": "code",
   "execution_count": 3,
   "metadata": {
    "collapsed": true
   },
   "outputs": [],
   "source": [
    "num_of_u = len(df['user_id'].unique())\n",
    "num_of_b = len(df['business_id'].unique())"
   ]
  },
  {
   "cell_type": "code",
   "execution_count": 4,
   "metadata": {
    "collapsed": true
   },
   "outputs": [],
   "source": [
    "u_start = 0\n",
    "b_start = u_start + num_of_u\n",
    "dow_start = b_start + num_of_b\n",
    "moy_start = dow_start + 7\n",
    "dom_start = moy_start + 12\n",
    "woy_start = dom_start + 31\n",
    "doy_start = woy_start + 52"
   ]
  },
  {
   "cell_type": "code",
   "execution_count": 5,
   "metadata": {
    "collapsed": true
   },
   "outputs": [],
   "source": [
    "def convert_category_type(id, start):\n",
    "    return str(start+id) + ':1'"
   ]
  },
  {
   "cell_type": "code",
   "execution_count": 6,
   "metadata": {
    "collapsed": true
   },
   "outputs": [],
   "source": [
    "def add_time(df_t):\n",
    "    df = df_t.copy()\n",
    "    df['date'] = pd.to_datetime(df['date'])\n",
    "    df['dow'] = df['date'].dt.dayofweek\n",
    "    df['doy'] = df['date'].dt.dayofyear\n",
    "    df['woy'] = df['date'].dt.weekofyear\n",
    "    df['moy'] = df['date'].dt.month\n",
    "    df['dom'] = df['date'].dt.day    \n",
    "    return df"
   ]
  },
  {
   "cell_type": "code",
   "execution_count": 7,
   "metadata": {
    "collapsed": true
   },
   "outputs": [],
   "source": [
    "def add_libFM_features(df_t):\n",
    "    df = df_t.copy()\n",
    "    df['uid_c'] = df['user_id'].apply(lambda x: convert_category_type(x, u_start))\n",
    "    df['bid_c'] = df['business_id'].apply(lambda x: convert_category_type(x, b_start))\n",
    "    df['dow_c'] = df['dow'].apply(lambda x: convert_category_type(x, dow_start))\n",
    "    df['moy_c'] = df['moy'].apply(lambda x: convert_category_type(x, moy_start))\n",
    "    df['dom_c'] = df['dom'].apply(lambda x: convert_category_type(x, dom_start))\n",
    "    df['woy_c'] = df['woy'].apply(lambda x: convert_category_type(x, woy_start))\n",
    "    df['doy_c'] = df['doy'].apply(lambda x: convert_category_type(x, doy_start))\n",
    "    return df"
   ]
  },
  {
   "cell_type": "code",
   "execution_count": 8,
   "metadata": {
    "collapsed": true
   },
   "outputs": [],
   "source": [
    "columns = ['rating','uid_c', 'bid_c', 'dow_c', 'moy_c', 'dom_c', 'woy_c', 'doy_c']"
   ]
  },
  {
   "cell_type": "code",
   "execution_count": 9,
   "metadata": {
    "collapsed": true
   },
   "outputs": [],
   "source": [
    "train_full = add_time(df)\n",
    "train_full = add_libFM_features(train_full)\n",
    "train_full = train_full[columns]"
   ]
  },
  {
   "cell_type": "code",
   "execution_count": 10,
   "metadata": {
    "collapsed": true
   },
   "outputs": [],
   "source": [
    "train_full.to_csv('/Users/yuyizhou/Documents/2017Fall/CMPT741/project/libFM/data/train_full.libfm', sep=' ', header=False, index=False)"
   ]
  },
  {
   "cell_type": "code",
   "execution_count": 11,
   "metadata": {
    "collapsed": true
   },
   "outputs": [],
   "source": [
    "df_test = pd.read_csv('/Users/yuyizhou/Documents/2017Fall/CMPT741/project/data/test_rating.txt', parse_dates=True)"
   ]
  },
  {
   "cell_type": "code",
   "execution_count": 12,
   "metadata": {
    "collapsed": true
   },
   "outputs": [],
   "source": [
    "df_test['rating']=0"
   ]
  },
  {
   "cell_type": "code",
   "execution_count": 13,
   "metadata": {
    "collapsed": true
   },
   "outputs": [],
   "source": [
    "test_full = add_time(df_test)\n",
    "test_full = add_libFM_features(test_full)\n",
    "test_full = test_full[columns]"
   ]
  },
  {
   "cell_type": "code",
   "execution_count": 14,
   "metadata": {
    "collapsed": true
   },
   "outputs": [],
   "source": [
    "test_full.to_csv('/Users/yuyizhou/Documents/2017Fall/CMPT741/project/libFM/data/test_full.libfm', sep=' ', header=False, index=False)"
   ]
  },
  {
   "cell_type": "code",
   "execution_count": null,
   "metadata": {
    "collapsed": true
   },
   "outputs": [],
   "source": []
  }
 ],
 "metadata": {
  "kernelspec": {
   "display_name": "Python 3",
   "language": "python",
   "name": "python3"
  },
  "language_info": {
   "codemirror_mode": {
    "name": "ipython",
    "version": 3
   },
   "file_extension": ".py",
   "mimetype": "text/x-python",
   "name": "python",
   "nbconvert_exporter": "python",
   "pygments_lexer": "ipython3",
   "version": "3.6.2"
  }
 },
 "nbformat": 4,
 "nbformat_minor": 2
}
